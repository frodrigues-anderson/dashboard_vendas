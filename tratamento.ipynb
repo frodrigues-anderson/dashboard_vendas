{
 "cells": [
  {
   "cell_type": "code",
   "execution_count": 3,
   "metadata": {},
   "outputs": [],
   "source": [
    "# Importando bibliotecas"
   ]
  },
  {
   "cell_type": "code",
   "execution_count": 55,
   "metadata": {},
   "outputs": [],
   "source": [
    "import pandas as pd\n",
    "from __future__ import unicode_literals "
   ]
  },
  {
   "cell_type": "code",
   "execution_count": 4,
   "metadata": {},
   "outputs": [],
   "source": [
    "# Importando base de dados"
   ]
  },
  {
   "cell_type": "code",
   "execution_count": 8,
   "metadata": {},
   "outputs": [],
   "source": [
    "def importar(arquivo): return pd.read_csv(f'bases/{arquivo}')\n",
    "\n",
    "dados_categorias = importar('data_categorias.csv')\n",
    "dados_clientes = importar('data_clientes.csv')\n",
    "dados_lojas = importar('data_lojas.csv')\n",
    "dados_produtos = importar('data_produtos.csv')\n",
    "dados_vendas = importar('data_vendas.csv')\n",
    "\n",
    "\n"
   ]
  },
  {
   "cell_type": "markdown",
   "metadata": {},
   "source": [
    "# Correções : \n",
    "* tipo de dado das datas   ✓\n",
    "* Remover o R$ dos valores ✓\n",
    "* Consolidar as bases      ✓\n",
    "* Remover colunas com ID   ✓\n",
    "* Criar a coluna de Total  ✓\n",
    "* Salvar o novo data_set   ✓"
   ]
  },
  {
   "cell_type": "code",
   "execution_count": 10,
   "metadata": {},
   "outputs": [
    {
     "data": {
      "text/plain": [
       "id_Venda              object\n",
       "fk_Cliente             int64\n",
       "fk_Produto             int64\n",
       "fk_Loja                int64\n",
       "Quantidade             int64\n",
       "dt_Venda      datetime64[ns]\n",
       "dtype: object"
      ]
     },
     "execution_count": 10,
     "metadata": {},
     "output_type": "execute_result"
    }
   ],
   "source": [
    "dados_vendas['dt_Venda'] = pd.to_datetime(dados_vendas['dt_Venda'])\n",
    "dados_vendas.dtypes"
   ]
  },
  {
   "cell_type": "code",
   "execution_count": 17,
   "metadata": {},
   "outputs": [
    {
     "data": {
      "text/plain": [
       "id_Produto         int64\n",
       "Produto           object\n",
       "fk_Categoria       int64\n",
       "Preço Unitário     int32\n",
       "dtype: object"
      ]
     },
     "execution_count": 17,
     "metadata": {},
     "output_type": "execute_result"
    }
   ],
   "source": [
    "dados_produtos['Preço Unitário'] = dados_produtos['Preço Unitário'].str.lstrip('R$ ')\n",
    "dados_produtos['Preço Unitário'] = dados_produtos['Preço Unitário'].astype(int)\n",
    "dados_produtos.dtypes"
   ]
  },
  {
   "cell_type": "code",
   "execution_count": 46,
   "metadata": {},
   "outputs": [
    {
     "data": {
      "text/plain": [
       "(39135, 17)"
      ]
     },
     "execution_count": 46,
     "metadata": {},
     "output_type": "execute_result"
    }
   ],
   "source": [
    "dados_consolidados = pd.merge(dados_vendas, dados_clientes, \n",
    "    left_on='fk_Cliente', right_on='id_Cliente', how='left')\n",
    "\n",
    "dados_consolidados = pd.merge(dados_consolidados, dados_produtos, \n",
    "    left_on='fk_Produto', right_on='id_Produto', how='right')\n",
    "\n",
    "dados_consolidados = pd.merge(dados_consolidados, dados_lojas, \n",
    "    left_on='fk_Loja', right_on='id_Loja', how='right')\n",
    "\n",
    "dados_consolidados = pd.merge(dados_consolidados, dados_categorias, \n",
    "    left_on='fk_Categoria', right_on='id_Categoria', how='right')\n",
    "\n",
    "# dados_consolidados.shape\n",
    "\n",
    "#dados_consolidados.columns"
   ]
  },
  {
   "cell_type": "code",
   "execution_count": 35,
   "metadata": {},
   "outputs": [],
   "source": [
    "dados_consolidados = dados_consolidados.drop(\n",
    "    ['fk_Categoria', 'fk_Cliente','fk_Loja','fk_Produto'], axis=1)"
   ]
  },
  {
   "cell_type": "code",
   "execution_count": 43,
   "metadata": {},
   "outputs": [
    {
     "data": {
      "text/plain": [
       "Index(['id_Venda', 'Quantidade', 'dt_Venda', 'id_Cliente', 'Cliente', 'Email',\n",
       "       'id_Produto', 'Produto', 'Preço Unitário', 'id_Loja', 'Loja',\n",
       "       'id_Categoria', 'Categorias', 'Total'],\n",
       "      dtype='object')"
      ]
     },
     "execution_count": 43,
     "metadata": {},
     "output_type": "execute_result"
    }
   ],
   "source": [
    "dados_consolidados.columns"
   ]
  },
  {
   "cell_type": "code",
   "execution_count": 47,
   "metadata": {},
   "outputs": [],
   "source": [
    "try:\n",
    "    dados_consolidados = dados_consolidados.drop(\n",
    "    ['fk_Categoria', 'fk_Cliente','fk_Loja','fk_Produto'], axis=1)\n",
    "except KeyError:\n",
    "    print('There is not column that you tried to drop.')"
   ]
  },
  {
   "cell_type": "code",
   "execution_count": 42,
   "metadata": {},
   "outputs": [],
   "source": [
    "dados_consolidados['Total'] = dados_consolidados['Quantidade'] * dados_consolidados['Preço Unitário']"
   ]
  },
  {
   "cell_type": "code",
   "execution_count": 53,
   "metadata": {},
   "outputs": [],
   "source": [
    "dados_consolidados.to_csv('bases/dados_completo.csv', index=False)"
   ]
  },
  {
   "cell_type": "code",
   "execution_count": 48,
   "metadata": {},
   "outputs": [
    {
     "data": {
      "text/plain": [
       "(39135, 13)"
      ]
     },
     "execution_count": 48,
     "metadata": {},
     "output_type": "execute_result"
    }
   ],
   "source": [
    "dados_consolidados.shape"
   ]
  },
  {
   "cell_type": "code",
   "execution_count": 54,
   "metadata": {},
   "outputs": [
    {
     "data": {
      "text/html": [
       "<div>\n",
       "<style scoped>\n",
       "    .dataframe tbody tr th:only-of-type {\n",
       "        vertical-align: middle;\n",
       "    }\n",
       "\n",
       "    .dataframe tbody tr th {\n",
       "        vertical-align: top;\n",
       "    }\n",
       "\n",
       "    .dataframe thead th {\n",
       "        text-align: right;\n",
       "    }\n",
       "</style>\n",
       "<table border=\"1\" class=\"dataframe\">\n",
       "  <thead>\n",
       "    <tr style=\"text-align: right;\">\n",
       "      <th></th>\n",
       "      <th>id_Venda</th>\n",
       "      <th>Quantidade</th>\n",
       "      <th>dt_Venda</th>\n",
       "      <th>id_Cliente</th>\n",
       "      <th>Cliente</th>\n",
       "      <th>Email</th>\n",
       "      <th>id_Produto</th>\n",
       "      <th>Produto</th>\n",
       "      <th>Preço Unitário</th>\n",
       "      <th>id_Loja</th>\n",
       "      <th>Loja</th>\n",
       "      <th>id_Categoria</th>\n",
       "      <th>Categorias</th>\n",
       "    </tr>\n",
       "  </thead>\n",
       "  <tbody>\n",
       "    <tr>\n",
       "      <th>0</th>\n",
       "      <td>766979-7865826879-vd353</td>\n",
       "      <td>31.0</td>\n",
       "      <td>2023-01-04</td>\n",
       "      <td>3996.0</td>\n",
       "      <td>Ruthe Schowalter</td>\n",
       "      <td>Ruthe@email.com</td>\n",
       "      <td>1.0</td>\n",
       "      <td>Computador_PowerPlex</td>\n",
       "      <td>5650.0</td>\n",
       "      <td>1.0</td>\n",
       "      <td>São Paulo</td>\n",
       "      <td>1</td>\n",
       "      <td>Computador</td>\n",
       "    </tr>\n",
       "    <tr>\n",
       "      <th>1</th>\n",
       "      <td>766979-7865826879-vd1373</td>\n",
       "      <td>1.0</td>\n",
       "      <td>2023-01-13</td>\n",
       "      <td>1558.0</td>\n",
       "      <td>Samantha Pollich</td>\n",
       "      <td>Saman@email.com</td>\n",
       "      <td>1.0</td>\n",
       "      <td>Computador_PowerPlex</td>\n",
       "      <td>5650.0</td>\n",
       "      <td>1.0</td>\n",
       "      <td>São Paulo</td>\n",
       "      <td>1</td>\n",
       "      <td>Computador</td>\n",
       "    </tr>\n",
       "    <tr>\n",
       "      <th>2</th>\n",
       "      <td>766979-7865826879-vd1589</td>\n",
       "      <td>19.0</td>\n",
       "      <td>2023-01-15</td>\n",
       "      <td>3782.0</td>\n",
       "      <td>Carli Bernhard</td>\n",
       "      <td>Carli@email.com</td>\n",
       "      <td>1.0</td>\n",
       "      <td>Computador_PowerPlex</td>\n",
       "      <td>5650.0</td>\n",
       "      <td>1.0</td>\n",
       "      <td>São Paulo</td>\n",
       "      <td>1</td>\n",
       "      <td>Computador</td>\n",
       "    </tr>\n",
       "    <tr>\n",
       "      <th>3</th>\n",
       "      <td>766979-7865826879-vd2101</td>\n",
       "      <td>15.0</td>\n",
       "      <td>2023-01-20</td>\n",
       "      <td>1282.0</td>\n",
       "      <td>Donnie Mertz</td>\n",
       "      <td>Donni@email.com</td>\n",
       "      <td>1.0</td>\n",
       "      <td>Computador_PowerPlex</td>\n",
       "      <td>5650.0</td>\n",
       "      <td>1.0</td>\n",
       "      <td>São Paulo</td>\n",
       "      <td>1</td>\n",
       "      <td>Computador</td>\n",
       "    </tr>\n",
       "    <tr>\n",
       "      <th>4</th>\n",
       "      <td>766979-7865826879-vd2402</td>\n",
       "      <td>32.0</td>\n",
       "      <td>2023-01-23</td>\n",
       "      <td>3815.0</td>\n",
       "      <td>Dr. Efren Brekke</td>\n",
       "      <td>Dr. E@email.com</td>\n",
       "      <td>1.0</td>\n",
       "      <td>Computador_PowerPlex</td>\n",
       "      <td>5650.0</td>\n",
       "      <td>1.0</td>\n",
       "      <td>São Paulo</td>\n",
       "      <td>1</td>\n",
       "      <td>Computador</td>\n",
       "    </tr>\n",
       "    <tr>\n",
       "      <th>...</th>\n",
       "      <td>...</td>\n",
       "      <td>...</td>\n",
       "      <td>...</td>\n",
       "      <td>...</td>\n",
       "      <td>...</td>\n",
       "      <td>...</td>\n",
       "      <td>...</td>\n",
       "      <td>...</td>\n",
       "      <td>...</td>\n",
       "      <td>...</td>\n",
       "      <td>...</td>\n",
       "      <td>...</td>\n",
       "      <td>...</td>\n",
       "    </tr>\n",
       "    <tr>\n",
       "      <th>39130</th>\n",
       "      <td>766979-7865826879-vd34005</td>\n",
       "      <td>34.0</td>\n",
       "      <td>2023-11-08</td>\n",
       "      <td>3103.0</td>\n",
       "      <td>Joannie Goodwin</td>\n",
       "      <td>Joann@email.com</td>\n",
       "      <td>138.0</td>\n",
       "      <td>Hub_UltraHub Pro</td>\n",
       "      <td>3596.0</td>\n",
       "      <td>5.0</td>\n",
       "      <td>Santos</td>\n",
       "      <td>16</td>\n",
       "      <td>Hub</td>\n",
       "    </tr>\n",
       "    <tr>\n",
       "      <th>39131</th>\n",
       "      <td>766979-7865826879-vd34267</td>\n",
       "      <td>4.0</td>\n",
       "      <td>2023-11-10</td>\n",
       "      <td>480.0</td>\n",
       "      <td>Raphaelle Morar</td>\n",
       "      <td>Rapha@email.com</td>\n",
       "      <td>138.0</td>\n",
       "      <td>Hub_UltraHub Pro</td>\n",
       "      <td>3596.0</td>\n",
       "      <td>5.0</td>\n",
       "      <td>Santos</td>\n",
       "      <td>16</td>\n",
       "      <td>Hub</td>\n",
       "    </tr>\n",
       "    <tr>\n",
       "      <th>39132</th>\n",
       "      <td>766979-7865826879-vd34334</td>\n",
       "      <td>21.0</td>\n",
       "      <td>2023-11-11</td>\n",
       "      <td>3357.0</td>\n",
       "      <td>Melissa Wilkinson</td>\n",
       "      <td>Melis@email.com</td>\n",
       "      <td>138.0</td>\n",
       "      <td>Hub_UltraHub Pro</td>\n",
       "      <td>3596.0</td>\n",
       "      <td>5.0</td>\n",
       "      <td>Santos</td>\n",
       "      <td>16</td>\n",
       "      <td>Hub</td>\n",
       "    </tr>\n",
       "    <tr>\n",
       "      <th>39133</th>\n",
       "      <td>766979-7865826879-vd35066</td>\n",
       "      <td>24.0</td>\n",
       "      <td>2023-11-17</td>\n",
       "      <td>867.0</td>\n",
       "      <td>Raleigh Cronin II</td>\n",
       "      <td>Ralei@email.com</td>\n",
       "      <td>138.0</td>\n",
       "      <td>Hub_UltraHub Pro</td>\n",
       "      <td>3596.0</td>\n",
       "      <td>5.0</td>\n",
       "      <td>Santos</td>\n",
       "      <td>16</td>\n",
       "      <td>Hub</td>\n",
       "    </tr>\n",
       "    <tr>\n",
       "      <th>39134</th>\n",
       "      <td>766979-7865826879-vd38879</td>\n",
       "      <td>31.0</td>\n",
       "      <td>2023-12-21</td>\n",
       "      <td>1052.0</td>\n",
       "      <td>Prof. Monserrat Cartwright</td>\n",
       "      <td>Prof.@email.com</td>\n",
       "      <td>138.0</td>\n",
       "      <td>Hub_UltraHub Pro</td>\n",
       "      <td>3596.0</td>\n",
       "      <td>5.0</td>\n",
       "      <td>Santos</td>\n",
       "      <td>16</td>\n",
       "      <td>Hub</td>\n",
       "    </tr>\n",
       "  </tbody>\n",
       "</table>\n",
       "<p>39135 rows × 13 columns</p>\n",
       "</div>"
      ],
      "text/plain": [
       "                        id_Venda  Quantidade   dt_Venda  id_Cliente  \\\n",
       "0        766979-7865826879-vd353        31.0 2023-01-04      3996.0   \n",
       "1       766979-7865826879-vd1373         1.0 2023-01-13      1558.0   \n",
       "2       766979-7865826879-vd1589        19.0 2023-01-15      3782.0   \n",
       "3       766979-7865826879-vd2101        15.0 2023-01-20      1282.0   \n",
       "4       766979-7865826879-vd2402        32.0 2023-01-23      3815.0   \n",
       "...                          ...         ...        ...         ...   \n",
       "39130  766979-7865826879-vd34005        34.0 2023-11-08      3103.0   \n",
       "39131  766979-7865826879-vd34267         4.0 2023-11-10       480.0   \n",
       "39132  766979-7865826879-vd34334        21.0 2023-11-11      3357.0   \n",
       "39133  766979-7865826879-vd35066        24.0 2023-11-17       867.0   \n",
       "39134  766979-7865826879-vd38879        31.0 2023-12-21      1052.0   \n",
       "\n",
       "                          Cliente            Email  id_Produto  \\\n",
       "0                Ruthe Schowalter  Ruthe@email.com         1.0   \n",
       "1                Samantha Pollich  Saman@email.com         1.0   \n",
       "2                  Carli Bernhard  Carli@email.com         1.0   \n",
       "3                    Donnie Mertz  Donni@email.com         1.0   \n",
       "4                Dr. Efren Brekke  Dr. E@email.com         1.0   \n",
       "...                           ...              ...         ...   \n",
       "39130             Joannie Goodwin  Joann@email.com       138.0   \n",
       "39131             Raphaelle Morar  Rapha@email.com       138.0   \n",
       "39132           Melissa Wilkinson  Melis@email.com       138.0   \n",
       "39133           Raleigh Cronin II  Ralei@email.com       138.0   \n",
       "39134  Prof. Monserrat Cartwright  Prof.@email.com       138.0   \n",
       "\n",
       "                    Produto  Preço Unitário  id_Loja       Loja  id_Categoria  \\\n",
       "0      Computador_PowerPlex          5650.0      1.0  São Paulo             1   \n",
       "1      Computador_PowerPlex          5650.0      1.0  São Paulo             1   \n",
       "2      Computador_PowerPlex          5650.0      1.0  São Paulo             1   \n",
       "3      Computador_PowerPlex          5650.0      1.0  São Paulo             1   \n",
       "4      Computador_PowerPlex          5650.0      1.0  São Paulo             1   \n",
       "...                     ...             ...      ...        ...           ...   \n",
       "39130      Hub_UltraHub Pro          3596.0      5.0     Santos            16   \n",
       "39131      Hub_UltraHub Pro          3596.0      5.0     Santos            16   \n",
       "39132      Hub_UltraHub Pro          3596.0      5.0     Santos            16   \n",
       "39133      Hub_UltraHub Pro          3596.0      5.0     Santos            16   \n",
       "39134      Hub_UltraHub Pro          3596.0      5.0     Santos            16   \n",
       "\n",
       "       Categorias  \n",
       "0      Computador  \n",
       "1      Computador  \n",
       "2      Computador  \n",
       "3      Computador  \n",
       "4      Computador  \n",
       "...           ...  \n",
       "39130         Hub  \n",
       "39131         Hub  \n",
       "39132         Hub  \n",
       "39133         Hub  \n",
       "39134         Hub  \n",
       "\n",
       "[39135 rows x 13 columns]"
      ]
     },
     "execution_count": 54,
     "metadata": {},
     "output_type": "execute_result"
    }
   ],
   "source": [
    "dados_consolidados"
   ]
  },
  {
   "cell_type": "code",
   "execution_count": null,
   "metadata": {},
   "outputs": [],
   "source": []
  }
 ],
 "metadata": {
  "kernelspec": {
   "display_name": "Python 3",
   "language": "python",
   "name": "python3"
  },
  "language_info": {
   "codemirror_mode": {
    "name": "ipython",
    "version": 3
   },
   "file_extension": ".py",
   "mimetype": "text/x-python",
   "name": "python",
   "nbconvert_exporter": "python",
   "pygments_lexer": "ipython3",
   "version": "3.12.3"
  }
 },
 "nbformat": 4,
 "nbformat_minor": 2
}
